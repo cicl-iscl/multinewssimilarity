{
 "cells": [
  {
   "cell_type": "code",
   "execution_count": 2,
   "id": "ff8813b5",
   "metadata": {},
   "outputs": [],
   "source": [
    "import random\n",
    "\n",
    "import matplotlib.pyplot as plt\n",
    "import numpy as np\n",
    "import pandas as pd\n",
    "\n",
    "from pandas import read_csv, concat, DataFrame\n",
    "from scipy.stats import pearsonr\n",
    "from sklearn.decomposition import PCA\n",
    "from sklearn.ensemble import StackingRegressor, RandomForestRegressor\n",
    "from sklearn.kernel_ridge import KernelRidge\n",
    "from sklearn.linear_model import LinearRegression, RidgeCV, MultiTaskLasso\n",
    "from sklearn.model_selection import train_test_split\n",
    "from sklearn.neural_network import MLPRegressor\n",
    "\n",
    "from sklearn.tree import DecisionTreeRegressor\n",
    "\n",
    "from src.config import CLEANED_PATH, DataType, UNCLEANED_PATH, RAW_FILE, INFERENCE_FILE\n",
    "from src.logger import log\n"
   ]
  },
  {
   "cell_type": "code",
   "execution_count": 9,
   "id": "fa50844d",
   "metadata": {},
   "outputs": [],
   "source": [
    "def add_missing_entries(source_path, target_path):\n",
    "    s_df = read_csv(source_path, sep=',', usecols=['pair_id'])\n",
    "    t_df = read_csv(target_path, sep=',', usecols=['pair_id', 'Overall'])\n",
    "    print(s_df['pair_id'].unique().shape)\n",
    "    print(t_df['pair_id'].unique().shape)\n",
    "    # print(t_df.shape)\n",
    "    # n_df =\n",
    "    # print(n_df.shape)\n",
    "    final_rows = []\n",
    "    for row in s_df.itertuples(index=False):\n",
    "        p_id = row[0]\n",
    "        t_row = t_df.loc[t_df['pair_id'] == p_id]\n",
    "        score = t_row.iloc[0, 1] if t_row.shape[0] >= 1 else random.choice([2, 3])\n",
    "        final_rows.append([p_id, score])\n",
    "\n",
    "    df = DataFrame(final_rows, columns=['pair_id', 'Overall'])\n",
    "    df['Overall'] = df['Overall'].apply(clip_score)\n",
    "    df.to_csv(target_path, mode='w', index=False)\n",
    "\n",
    "    \n",
    "def clip_score(val):\n",
    "    if val > 4.0:\n",
    "        return 4.0\n",
    "    elif val < 1.0:\n",
    "        return 1.0\n",
    "    else:\n",
    "        return val"
   ]
  },
  {
   "cell_type": "code",
   "execution_count": 4,
   "id": "44dbf5ea",
   "metadata": {},
   "outputs": [],
   "source": [
    "train_path = CLEANED_PATH.format(data_type=DataType.train.name) + INFERENCE_FILE\n",
    "test_path = CLEANED_PATH.format(data_type=DataType.test.name) + INFERENCE_FILE\n",
    "\n",
    "cols = ['sentences_mean', 'sentences_min', 'sentences_max',\n",
    "        'sentences_med', 'title', 'n1_title_n2_text',\n",
    "        'n2_title_n1_text', 'n1_title_n1_text',\n",
    "        'n2_title_n2_text', 'start_para', 'end_para',\n",
    "        'ner', 'tf_idf', 'wmd_dist', 'overall']\n",
    "\n",
    "# cols = ['tf_idf', 'wmd_dist', 'overall']\n",
    "\n",
    "# cols = ['sentences_mean', 'sentences_min', 'sentences_max',\n",
    "#         'sentences_med', 'title', 'n1_title_n2_text',\n",
    "#         'n2_title_n1_text', 'n1_title_n1_text',\n",
    "#         'n2_title_n2_text', 'start_para', 'end_para',\n",
    "#         'wmd_dist', 'overall']\n",
    "\n",
    "\n",
    "train_df = read_csv(train_path, sep=',', usecols=cols)\n",
    "train_df = train_df.drop_duplicates()\n",
    "y = train_df.pop('overall')\n",
    "train_x, train_y = train_df, y\n",
    "\n",
    "test_df = read_csv(test_path, sep=',', usecols=cols)\n",
    "test_df = test_df.drop_duplicates()\n",
    "val_y = test_df.pop('overall')\n",
    "val_x = test_df\n",
    "\n"
   ]
  },
  {
   "cell_type": "code",
   "execution_count": 24,
   "id": "059f6871",
   "metadata": {},
   "outputs": [
    {
     "name": "stdout",
     "output_type": "stream",
     "text": [
      "Create sweep with ID: 7mjehf2z\n",
      "Sweep URL: https://wandb.ai/notsomonk/SemEval-Task-8/sweeps/7mjehf2z\n"
     ]
    }
   ],
   "source": [
    "import wandb\n",
    "sweep_config = {\n",
    "  \"name\" : \"kr-poly-paraall\",\n",
    "    \"metric\": {\"name\": \"pearson\", \"goal\": \"maximize\"},\n",
    "  \"method\" : \"bayes\",\n",
    "  \"parameters\" : {\n",
    "    \"kernel\": {\"values\" :['poly']},\n",
    "    \"degree\" : {\"values\" :[2, 3, 4]},\n",
    "    \"alpha\": {\n",
    "        \"min\": 0.05,\n",
    "        \"max\": 1.0\n",
    "    },\n",
    "  }\n",
    "}\n",
    "\n",
    "sweep_id = wandb.sweep(sweep_config, project=\"SemEval-Task-8\", entity=\"notsomonk\")"
   ]
  },
  {
   "cell_type": "code",
   "execution_count": 25,
   "id": "01505fdc",
   "metadata": {},
   "outputs": [
    {
     "name": "stderr",
     "output_type": "stream",
     "text": [
      "\u001b[34m\u001b[1mwandb\u001b[0m: Agent Starting Run: kswwx4rk with config:\n",
      "\u001b[34m\u001b[1mwandb\u001b[0m: \talpha: 0.1722602345233244\n",
      "\u001b[34m\u001b[1mwandb\u001b[0m: \tdegree: 3\n",
      "\u001b[34m\u001b[1mwandb\u001b[0m: \tkernel: poly\n",
      "\u001b[34m\u001b[1mwandb\u001b[0m: wandb version 0.12.10 is available!  To upgrade, please run:\n",
      "\u001b[34m\u001b[1mwandb\u001b[0m:  $ pip install wandb --upgrade\n"
     ]
    },
    {
     "data": {
      "text/html": [
       "\n",
       "                    Syncing run <strong><a href=\"https://wandb.ai/notsomonk/SemEval-Task-8/runs/kswwx4rk\" target=\"_blank\">bright-sweep-1</a></strong> to <a href=\"https://wandb.ai/notsomonk/SemEval-Task-8\" target=\"_blank\">Weights & Biases</a> (<a href=\"https://docs.wandb.com/integrations/jupyter.html\" target=\"_blank\">docs</a>).<br/>\n",
       "Sweep page: <a href=\"https://wandb.ai/notsomonk/SemEval-Task-8/sweeps/7mjehf2z\" target=\"_blank\">https://wandb.ai/notsomonk/SemEval-Task-8/sweeps/7mjehf2z</a><br/>\n",
       "\n",
       "                "
      ],
      "text/plain": [
       "<IPython.core.display.HTML object>"
      ]
     },
     "metadata": {},
     "output_type": "display_data"
    },
    {
     "data": {
      "text/html": [
       "<br/>Waiting for W&B process to finish, PID 7113... <strong style=\"color:green\">(success).</strong>"
      ],
      "text/plain": [
       "<IPython.core.display.HTML object>"
      ]
     },
     "metadata": {},
     "output_type": "display_data"
    },
    {
     "data": {
      "application/vnd.jupyter.widget-view+json": {
       "model_id": "",
       "version_major": 2,
       "version_minor": 0
      },
      "text/plain": [
       "VBox(children=(Label(value=' 0.00MB of 0.00MB uploaded (0.00MB deduped)\\r'), FloatProgress(value=1.0, max=1.0)…"
      ]
     },
     "metadata": {},
     "output_type": "display_data"
    },
    {
     "data": {
      "text/html": [
       "<style>\n",
       "    table.wandb td:nth-child(1) { padding: 0 10px; text-align: right }\n",
       "    .wandb-row { display: flex; flex-direction: row; flex-wrap: wrap; width: 100% }\n",
       "    .wandb-col { display: flex; flex-direction: column; flex-basis: 100%; flex: 1; padding: 10px; }\n",
       "    </style>\n",
       "<div class=\"wandb-row\"><div class=\"wandb-col\">\n",
       "<h3>Run history:</h3><br/><table class=\"wandb\"><tr><td>pearson</td><td>▁</td></tr></table><br/></div><div class=\"wandb-col\">\n",
       "<h3>Run summary:</h3><br/><table class=\"wandb\"><tr><td>pearson</td><td>0.63636</td></tr></table>\n",
       "</div></div>\n",
       "Synced 4 W&B file(s), 0 media file(s), 0 artifact file(s) and 0 other file(s)\n",
       "<br/>Synced <strong style=\"color:#cdcd00\">bright-sweep-1</strong>: <a href=\"https://wandb.ai/notsomonk/SemEval-Task-8/runs/kswwx4rk\" target=\"_blank\">https://wandb.ai/notsomonk/SemEval-Task-8/runs/kswwx4rk</a><br/>\n",
       "Find logs at: <code>./wandb/run-20220301_071642-kswwx4rk/logs</code><br/>\n"
      ],
      "text/plain": [
       "<IPython.core.display.HTML object>"
      ]
     },
     "metadata": {},
     "output_type": "display_data"
    },
    {
     "name": "stderr",
     "output_type": "stream",
     "text": [
      "\u001b[34m\u001b[1mwandb\u001b[0m: Agent Starting Run: 1nv2wn1c with config:\n",
      "\u001b[34m\u001b[1mwandb\u001b[0m: \talpha: 0.3345315447543734\n",
      "\u001b[34m\u001b[1mwandb\u001b[0m: \tdegree: 2\n",
      "\u001b[34m\u001b[1mwandb\u001b[0m: \tkernel: poly\n",
      "\u001b[34m\u001b[1mwandb\u001b[0m: wandb version 0.12.10 is available!  To upgrade, please run:\n",
      "\u001b[34m\u001b[1mwandb\u001b[0m:  $ pip install wandb --upgrade\n"
     ]
    },
    {
     "data": {
      "text/html": [
       "\n",
       "                    Syncing run <strong><a href=\"https://wandb.ai/notsomonk/SemEval-Task-8/runs/1nv2wn1c\" target=\"_blank\">logical-sweep-2</a></strong> to <a href=\"https://wandb.ai/notsomonk/SemEval-Task-8\" target=\"_blank\">Weights & Biases</a> (<a href=\"https://docs.wandb.com/integrations/jupyter.html\" target=\"_blank\">docs</a>).<br/>\n",
       "Sweep page: <a href=\"https://wandb.ai/notsomonk/SemEval-Task-8/sweeps/7mjehf2z\" target=\"_blank\">https://wandb.ai/notsomonk/SemEval-Task-8/sweeps/7mjehf2z</a><br/>\n",
       "\n",
       "                "
      ],
      "text/plain": [
       "<IPython.core.display.HTML object>"
      ]
     },
     "metadata": {},
     "output_type": "display_data"
    },
    {
     "data": {
      "text/html": [
       "<br/>Waiting for W&B process to finish, PID 7163... <strong style=\"color:green\">(success).</strong>"
      ],
      "text/plain": [
       "<IPython.core.display.HTML object>"
      ]
     },
     "metadata": {},
     "output_type": "display_data"
    },
    {
     "data": {
      "application/vnd.jupyter.widget-view+json": {
       "model_id": "",
       "version_major": 2,
       "version_minor": 0
      },
      "text/plain": [
       "VBox(children=(Label(value=' 0.00MB of 0.00MB uploaded (0.00MB deduped)\\r'), FloatProgress(value=1.0, max=1.0)…"
      ]
     },
     "metadata": {},
     "output_type": "display_data"
    },
    {
     "data": {
      "text/html": [
       "<style>\n",
       "    table.wandb td:nth-child(1) { padding: 0 10px; text-align: right }\n",
       "    .wandb-row { display: flex; flex-direction: row; flex-wrap: wrap; width: 100% }\n",
       "    .wandb-col { display: flex; flex-direction: column; flex-basis: 100%; flex: 1; padding: 10px; }\n",
       "    </style>\n",
       "<div class=\"wandb-row\"><div class=\"wandb-col\">\n",
       "<h3>Run history:</h3><br/><table class=\"wandb\"><tr><td>pearson</td><td>▁</td></tr></table><br/></div><div class=\"wandb-col\">\n",
       "<h3>Run summary:</h3><br/><table class=\"wandb\"><tr><td>pearson</td><td>0.63196</td></tr></table>\n",
       "</div></div>\n",
       "Synced 4 W&B file(s), 0 media file(s), 0 artifact file(s) and 0 other file(s)\n",
       "<br/>Synced <strong style=\"color:#cdcd00\">logical-sweep-2</strong>: <a href=\"https://wandb.ai/notsomonk/SemEval-Task-8/runs/1nv2wn1c\" target=\"_blank\">https://wandb.ai/notsomonk/SemEval-Task-8/runs/1nv2wn1c</a><br/>\n",
       "Find logs at: <code>./wandb/run-20220301_071654-1nv2wn1c/logs</code><br/>\n"
      ],
      "text/plain": [
       "<IPython.core.display.HTML object>"
      ]
     },
     "metadata": {},
     "output_type": "display_data"
    },
    {
     "name": "stderr",
     "output_type": "stream",
     "text": [
      "\u001b[34m\u001b[1mwandb\u001b[0m: Agent Starting Run: jeoxo8np with config:\n",
      "\u001b[34m\u001b[1mwandb\u001b[0m: \talpha: 0.6599309865666392\n",
      "\u001b[34m\u001b[1mwandb\u001b[0m: \tdegree: 2\n",
      "\u001b[34m\u001b[1mwandb\u001b[0m: \tkernel: poly\n",
      "\u001b[34m\u001b[1mwandb\u001b[0m: wandb version 0.12.10 is available!  To upgrade, please run:\n",
      "\u001b[34m\u001b[1mwandb\u001b[0m:  $ pip install wandb --upgrade\n"
     ]
    },
    {
     "data": {
      "text/html": [
       "\n",
       "                    Syncing run <strong><a href=\"https://wandb.ai/notsomonk/SemEval-Task-8/runs/jeoxo8np\" target=\"_blank\">laced-sweep-3</a></strong> to <a href=\"https://wandb.ai/notsomonk/SemEval-Task-8\" target=\"_blank\">Weights & Biases</a> (<a href=\"https://docs.wandb.com/integrations/jupyter.html\" target=\"_blank\">docs</a>).<br/>\n",
       "Sweep page: <a href=\"https://wandb.ai/notsomonk/SemEval-Task-8/sweeps/7mjehf2z\" target=\"_blank\">https://wandb.ai/notsomonk/SemEval-Task-8/sweeps/7mjehf2z</a><br/>\n",
       "\n",
       "                "
      ],
      "text/plain": [
       "<IPython.core.display.HTML object>"
      ]
     },
     "metadata": {},
     "output_type": "display_data"
    },
    {
     "data": {
      "text/html": [
       "<br/>Waiting for W&B process to finish, PID 7214... <strong style=\"color:green\">(success).</strong>"
      ],
      "text/plain": [
       "<IPython.core.display.HTML object>"
      ]
     },
     "metadata": {},
     "output_type": "display_data"
    },
    {
     "data": {
      "application/vnd.jupyter.widget-view+json": {
       "model_id": "",
       "version_major": 2,
       "version_minor": 0
      },
      "text/plain": [
       "VBox(children=(Label(value=' 0.00MB of 0.00MB uploaded (0.00MB deduped)\\r'), FloatProgress(value=1.0, max=1.0)…"
      ]
     },
     "metadata": {},
     "output_type": "display_data"
    },
    {
     "data": {
      "text/html": [
       "<style>\n",
       "    table.wandb td:nth-child(1) { padding: 0 10px; text-align: right }\n",
       "    .wandb-row { display: flex; flex-direction: row; flex-wrap: wrap; width: 100% }\n",
       "    .wandb-col { display: flex; flex-direction: column; flex-basis: 100%; flex: 1; padding: 10px; }\n",
       "    </style>\n",
       "<div class=\"wandb-row\"><div class=\"wandb-col\">\n",
       "<h3>Run history:</h3><br/><table class=\"wandb\"><tr><td>pearson</td><td>▁</td></tr></table><br/></div><div class=\"wandb-col\">\n",
       "<h3>Run summary:</h3><br/><table class=\"wandb\"><tr><td>pearson</td><td>0.63116</td></tr></table>\n",
       "</div></div>\n",
       "Synced 4 W&B file(s), 0 media file(s), 0 artifact file(s) and 0 other file(s)\n",
       "<br/>Synced <strong style=\"color:#cdcd00\">laced-sweep-3</strong>: <a href=\"https://wandb.ai/notsomonk/SemEval-Task-8/runs/jeoxo8np\" target=\"_blank\">https://wandb.ai/notsomonk/SemEval-Task-8/runs/jeoxo8np</a><br/>\n",
       "Find logs at: <code>./wandb/run-20220301_071704-jeoxo8np/logs</code><br/>\n"
      ],
      "text/plain": [
       "<IPython.core.display.HTML object>"
      ]
     },
     "metadata": {},
     "output_type": "display_data"
    },
    {
     "name": "stderr",
     "output_type": "stream",
     "text": [
      "\u001b[34m\u001b[1mwandb\u001b[0m: Agent Starting Run: n50qh4hq with config:\n",
      "\u001b[34m\u001b[1mwandb\u001b[0m: \talpha: 0.2231879338420691\n",
      "\u001b[34m\u001b[1mwandb\u001b[0m: \tdegree: 3\n",
      "\u001b[34m\u001b[1mwandb\u001b[0m: \tkernel: poly\n",
      "\u001b[34m\u001b[1mwandb\u001b[0m: wandb version 0.12.10 is available!  To upgrade, please run:\n",
      "\u001b[34m\u001b[1mwandb\u001b[0m:  $ pip install wandb --upgrade\n"
     ]
    },
    {
     "data": {
      "text/html": [
       "\n",
       "                    Syncing run <strong><a href=\"https://wandb.ai/notsomonk/SemEval-Task-8/runs/n50qh4hq\" target=\"_blank\">charmed-sweep-4</a></strong> to <a href=\"https://wandb.ai/notsomonk/SemEval-Task-8\" target=\"_blank\">Weights & Biases</a> (<a href=\"https://docs.wandb.com/integrations/jupyter.html\" target=\"_blank\">docs</a>).<br/>\n",
       "Sweep page: <a href=\"https://wandb.ai/notsomonk/SemEval-Task-8/sweeps/7mjehf2z\" target=\"_blank\">https://wandb.ai/notsomonk/SemEval-Task-8/sweeps/7mjehf2z</a><br/>\n",
       "\n",
       "                "
      ],
      "text/plain": [
       "<IPython.core.display.HTML object>"
      ]
     },
     "metadata": {},
     "output_type": "display_data"
    },
    {
     "data": {
      "text/html": [
       "<br/>Waiting for W&B process to finish, PID 7316... <strong style=\"color:green\">(success).</strong>"
      ],
      "text/plain": [
       "<IPython.core.display.HTML object>"
      ]
     },
     "metadata": {},
     "output_type": "display_data"
    },
    {
     "data": {
      "application/vnd.jupyter.widget-view+json": {
       "model_id": "",
       "version_major": 2,
       "version_minor": 0
      },
      "text/plain": [
       "VBox(children=(Label(value=' 0.00MB of 0.00MB uploaded (0.00MB deduped)\\r'), FloatProgress(value=1.0, max=1.0)…"
      ]
     },
     "metadata": {},
     "output_type": "display_data"
    },
    {
     "data": {
      "text/html": [
       "<style>\n",
       "    table.wandb td:nth-child(1) { padding: 0 10px; text-align: right }\n",
       "    .wandb-row { display: flex; flex-direction: row; flex-wrap: wrap; width: 100% }\n",
       "    .wandb-col { display: flex; flex-direction: column; flex-basis: 100%; flex: 1; padding: 10px; }\n",
       "    </style>\n",
       "<div class=\"wandb-row\"><div class=\"wandb-col\">\n",
       "<h3>Run history:</h3><br/><table class=\"wandb\"><tr><td>pearson</td><td>▁</td></tr></table><br/></div><div class=\"wandb-col\">\n",
       "<h3>Run summary:</h3><br/><table class=\"wandb\"><tr><td>pearson</td><td>0.63621</td></tr></table>\n",
       "</div></div>\n",
       "Synced 4 W&B file(s), 0 media file(s), 0 artifact file(s) and 0 other file(s)\n",
       "<br/>Synced <strong style=\"color:#cdcd00\">charmed-sweep-4</strong>: <a href=\"https://wandb.ai/notsomonk/SemEval-Task-8/runs/n50qh4hq\" target=\"_blank\">https://wandb.ai/notsomonk/SemEval-Task-8/runs/n50qh4hq</a><br/>\n",
       "Find logs at: <code>./wandb/run-20220301_071720-n50qh4hq/logs</code><br/>\n"
      ],
      "text/plain": [
       "<IPython.core.display.HTML object>"
      ]
     },
     "metadata": {},
     "output_type": "display_data"
    },
    {
     "name": "stderr",
     "output_type": "stream",
     "text": [
      "\u001b[34m\u001b[1mwandb\u001b[0m: Agent Starting Run: xx3pjt3c with config:\n",
      "\u001b[34m\u001b[1mwandb\u001b[0m: \talpha: 0.08171657266033877\n",
      "\u001b[34m\u001b[1mwandb\u001b[0m: \tdegree: 4\n",
      "\u001b[34m\u001b[1mwandb\u001b[0m: \tkernel: poly\n",
      "\u001b[34m\u001b[1mwandb\u001b[0m: wandb version 0.12.10 is available!  To upgrade, please run:\n",
      "\u001b[34m\u001b[1mwandb\u001b[0m:  $ pip install wandb --upgrade\n"
     ]
    },
    {
     "data": {
      "text/html": [
       "\n",
       "                    Syncing run <strong><a href=\"https://wandb.ai/notsomonk/SemEval-Task-8/runs/xx3pjt3c\" target=\"_blank\">dashing-sweep-5</a></strong> to <a href=\"https://wandb.ai/notsomonk/SemEval-Task-8\" target=\"_blank\">Weights & Biases</a> (<a href=\"https://docs.wandb.com/integrations/jupyter.html\" target=\"_blank\">docs</a>).<br/>\n",
       "Sweep page: <a href=\"https://wandb.ai/notsomonk/SemEval-Task-8/sweeps/7mjehf2z\" target=\"_blank\">https://wandb.ai/notsomonk/SemEval-Task-8/sweeps/7mjehf2z</a><br/>\n",
       "\n",
       "                "
      ],
      "text/plain": [
       "<IPython.core.display.HTML object>"
      ]
     },
     "metadata": {},
     "output_type": "display_data"
    },
    {
     "data": {
      "text/html": [
       "<br/>Waiting for W&B process to finish, PID 7366... <strong style=\"color:green\">(success).</strong>"
      ],
      "text/plain": [
       "<IPython.core.display.HTML object>"
      ]
     },
     "metadata": {},
     "output_type": "display_data"
    },
    {
     "data": {
      "application/vnd.jupyter.widget-view+json": {
       "model_id": "",
       "version_major": 2,
       "version_minor": 0
      },
      "text/plain": [
       "VBox(children=(Label(value=' 0.00MB of 0.00MB uploaded (0.00MB deduped)\\r'), FloatProgress(value=1.0, max=1.0)…"
      ]
     },
     "metadata": {},
     "output_type": "display_data"
    },
    {
     "data": {
      "text/html": [
       "<style>\n",
       "    table.wandb td:nth-child(1) { padding: 0 10px; text-align: right }\n",
       "    .wandb-row { display: flex; flex-direction: row; flex-wrap: wrap; width: 100% }\n",
       "    .wandb-col { display: flex; flex-direction: column; flex-basis: 100%; flex: 1; padding: 10px; }\n",
       "    </style>\n",
       "<div class=\"wandb-row\"><div class=\"wandb-col\">\n",
       "<h3>Run history:</h3><br/><table class=\"wandb\"><tr><td>pearson</td><td>▁</td></tr></table><br/></div><div class=\"wandb-col\">\n",
       "<h3>Run summary:</h3><br/><table class=\"wandb\"><tr><td>pearson</td><td>0.63722</td></tr></table>\n",
       "</div></div>\n",
       "Synced 4 W&B file(s), 0 media file(s), 0 artifact file(s) and 0 other file(s)\n",
       "<br/>Synced <strong style=\"color:#cdcd00\">dashing-sweep-5</strong>: <a href=\"https://wandb.ai/notsomonk/SemEval-Task-8/runs/xx3pjt3c\" target=\"_blank\">https://wandb.ai/notsomonk/SemEval-Task-8/runs/xx3pjt3c</a><br/>\n",
       "Find logs at: <code>./wandb/run-20220301_071735-xx3pjt3c/logs</code><br/>\n"
      ],
      "text/plain": [
       "<IPython.core.display.HTML object>"
      ]
     },
     "metadata": {},
     "output_type": "display_data"
    },
    {
     "name": "stderr",
     "output_type": "stream",
     "text": [
      "\u001b[34m\u001b[1mwandb\u001b[0m: Agent Starting Run: rmhcju3k with config:\n",
      "\u001b[34m\u001b[1mwandb\u001b[0m: \talpha: 0.07488219699657869\n",
      "\u001b[34m\u001b[1mwandb\u001b[0m: \tdegree: 4\n",
      "\u001b[34m\u001b[1mwandb\u001b[0m: \tkernel: poly\n",
      "\u001b[34m\u001b[1mwandb\u001b[0m: wandb version 0.12.10 is available!  To upgrade, please run:\n",
      "\u001b[34m\u001b[1mwandb\u001b[0m:  $ pip install wandb --upgrade\n"
     ]
    },
    {
     "data": {
      "text/html": [
       "\n",
       "                    Syncing run <strong><a href=\"https://wandb.ai/notsomonk/SemEval-Task-8/runs/rmhcju3k\" target=\"_blank\">stellar-sweep-6</a></strong> to <a href=\"https://wandb.ai/notsomonk/SemEval-Task-8\" target=\"_blank\">Weights & Biases</a> (<a href=\"https://docs.wandb.com/integrations/jupyter.html\" target=\"_blank\">docs</a>).<br/>\n",
       "Sweep page: <a href=\"https://wandb.ai/notsomonk/SemEval-Task-8/sweeps/7mjehf2z\" target=\"_blank\">https://wandb.ai/notsomonk/SemEval-Task-8/sweeps/7mjehf2z</a><br/>\n",
       "\n",
       "                "
      ],
      "text/plain": [
       "<IPython.core.display.HTML object>"
      ]
     },
     "metadata": {},
     "output_type": "display_data"
    },
    {
     "data": {
      "text/html": [
       "<br/>Waiting for W&B process to finish, PID 7453... <strong style=\"color:green\">(success).</strong>"
      ],
      "text/plain": [
       "<IPython.core.display.HTML object>"
      ]
     },
     "metadata": {},
     "output_type": "display_data"
    },
    {
     "data": {
      "application/vnd.jupyter.widget-view+json": {
       "model_id": "",
       "version_major": 2,
       "version_minor": 0
      },
      "text/plain": [
       "VBox(children=(Label(value=' 0.00MB of 0.00MB uploaded (0.00MB deduped)\\r'), FloatProgress(value=1.0, max=1.0)…"
      ]
     },
     "metadata": {},
     "output_type": "display_data"
    },
    {
     "data": {
      "text/html": [
       "<style>\n",
       "    table.wandb td:nth-child(1) { padding: 0 10px; text-align: right }\n",
       "    .wandb-row { display: flex; flex-direction: row; flex-wrap: wrap; width: 100% }\n",
       "    .wandb-col { display: flex; flex-direction: column; flex-basis: 100%; flex: 1; padding: 10px; }\n",
       "    </style>\n",
       "<div class=\"wandb-row\"><div class=\"wandb-col\">\n",
       "<h3>Run history:</h3><br/><table class=\"wandb\"><tr><td>pearson</td><td>▁</td></tr></table><br/></div><div class=\"wandb-col\">\n",
       "<h3>Run summary:</h3><br/><table class=\"wandb\"><tr><td>pearson</td><td>0.63723</td></tr></table>\n",
       "</div></div>\n",
       "Synced 4 W&B file(s), 0 media file(s), 0 artifact file(s) and 0 other file(s)\n",
       "<br/>Synced <strong style=\"color:#cdcd00\">stellar-sweep-6</strong>: <a href=\"https://wandb.ai/notsomonk/SemEval-Task-8/runs/rmhcju3k\" target=\"_blank\">https://wandb.ai/notsomonk/SemEval-Task-8/runs/rmhcju3k</a><br/>\n",
       "Find logs at: <code>./wandb/run-20220301_071748-rmhcju3k/logs</code><br/>\n"
      ],
      "text/plain": [
       "<IPython.core.display.HTML object>"
      ]
     },
     "metadata": {},
     "output_type": "display_data"
    },
    {
     "name": "stderr",
     "output_type": "stream",
     "text": [
      "\u001b[34m\u001b[1mwandb\u001b[0m: Agent Starting Run: 7q8nn040 with config:\n",
      "\u001b[34m\u001b[1mwandb\u001b[0m: \talpha: 0.08821160043489931\n",
      "\u001b[34m\u001b[1mwandb\u001b[0m: \tdegree: 4\n",
      "\u001b[34m\u001b[1mwandb\u001b[0m: \tkernel: poly\n",
      "\u001b[34m\u001b[1mwandb\u001b[0m: wandb version 0.12.10 is available!  To upgrade, please run:\n",
      "\u001b[34m\u001b[1mwandb\u001b[0m:  $ pip install wandb --upgrade\n"
     ]
    },
    {
     "data": {
      "text/html": [
       "\n",
       "                    Syncing run <strong><a href=\"https://wandb.ai/notsomonk/SemEval-Task-8/runs/7q8nn040\" target=\"_blank\">deep-sweep-7</a></strong> to <a href=\"https://wandb.ai/notsomonk/SemEval-Task-8\" target=\"_blank\">Weights & Biases</a> (<a href=\"https://docs.wandb.com/integrations/jupyter.html\" target=\"_blank\">docs</a>).<br/>\n",
       "Sweep page: <a href=\"https://wandb.ai/notsomonk/SemEval-Task-8/sweeps/7mjehf2z\" target=\"_blank\">https://wandb.ai/notsomonk/SemEval-Task-8/sweeps/7mjehf2z</a><br/>\n",
       "\n",
       "                "
      ],
      "text/plain": [
       "<IPython.core.display.HTML object>"
      ]
     },
     "metadata": {},
     "output_type": "display_data"
    },
    {
     "data": {
      "text/html": [
       "<br/>Waiting for W&B process to finish, PID 7500... <strong style=\"color:green\">(success).</strong>"
      ],
      "text/plain": [
       "<IPython.core.display.HTML object>"
      ]
     },
     "metadata": {},
     "output_type": "display_data"
    },
    {
     "data": {
      "application/vnd.jupyter.widget-view+json": {
       "model_id": "",
       "version_major": 2,
       "version_minor": 0
      },
      "text/plain": [
       "VBox(children=(Label(value=' 0.00MB of 0.00MB uploaded (0.00MB deduped)\\r'), FloatProgress(value=1.0, max=1.0)…"
      ]
     },
     "metadata": {},
     "output_type": "display_data"
    },
    {
     "data": {
      "text/html": [
       "<style>\n",
       "    table.wandb td:nth-child(1) { padding: 0 10px; text-align: right }\n",
       "    .wandb-row { display: flex; flex-direction: row; flex-wrap: wrap; width: 100% }\n",
       "    .wandb-col { display: flex; flex-direction: column; flex-basis: 100%; flex: 1; padding: 10px; }\n",
       "    </style>\n",
       "<div class=\"wandb-row\"><div class=\"wandb-col\">\n",
       "<h3>Run history:</h3><br/><table class=\"wandb\"><tr><td>pearson</td><td>▁</td></tr></table><br/></div><div class=\"wandb-col\">\n",
       "<h3>Run summary:</h3><br/><table class=\"wandb\"><tr><td>pearson</td><td>0.63721</td></tr></table>\n",
       "</div></div>\n",
       "Synced 4 W&B file(s), 0 media file(s), 0 artifact file(s) and 0 other file(s)\n",
       "<br/>Synced <strong style=\"color:#cdcd00\">deep-sweep-7</strong>: <a href=\"https://wandb.ai/notsomonk/SemEval-Task-8/runs/7q8nn040\" target=\"_blank\">https://wandb.ai/notsomonk/SemEval-Task-8/runs/7q8nn040</a><br/>\n",
       "Find logs at: <code>./wandb/run-20220301_071801-7q8nn040/logs</code><br/>\n"
      ],
      "text/plain": [
       "<IPython.core.display.HTML object>"
      ]
     },
     "metadata": {},
     "output_type": "display_data"
    },
    {
     "name": "stderr",
     "output_type": "stream",
     "text": [
      "\u001b[34m\u001b[1mwandb\u001b[0m: Agent Starting Run: oa8q2lof with config:\n",
      "\u001b[34m\u001b[1mwandb\u001b[0m: \talpha: 0.1419197709575063\n",
      "\u001b[34m\u001b[1mwandb\u001b[0m: \tdegree: 4\n",
      "\u001b[34m\u001b[1mwandb\u001b[0m: \tkernel: poly\n",
      "\u001b[34m\u001b[1mwandb\u001b[0m: wandb version 0.12.10 is available!  To upgrade, please run:\n",
      "\u001b[34m\u001b[1mwandb\u001b[0m:  $ pip install wandb --upgrade\n"
     ]
    },
    {
     "data": {
      "text/html": [
       "\n",
       "                    Syncing run <strong><a href=\"https://wandb.ai/notsomonk/SemEval-Task-8/runs/oa8q2lof\" target=\"_blank\">neat-sweep-8</a></strong> to <a href=\"https://wandb.ai/notsomonk/SemEval-Task-8\" target=\"_blank\">Weights & Biases</a> (<a href=\"https://docs.wandb.com/integrations/jupyter.html\" target=\"_blank\">docs</a>).<br/>\n",
       "Sweep page: <a href=\"https://wandb.ai/notsomonk/SemEval-Task-8/sweeps/7mjehf2z\" target=\"_blank\">https://wandb.ai/notsomonk/SemEval-Task-8/sweeps/7mjehf2z</a><br/>\n",
       "\n",
       "                "
      ],
      "text/plain": [
       "<IPython.core.display.HTML object>"
      ]
     },
     "metadata": {},
     "output_type": "display_data"
    },
    {
     "data": {
      "text/html": [
       "<br/>Waiting for W&B process to finish, PID 7545... <strong style=\"color:green\">(success).</strong>"
      ],
      "text/plain": [
       "<IPython.core.display.HTML object>"
      ]
     },
     "metadata": {},
     "output_type": "display_data"
    },
    {
     "data": {
      "application/vnd.jupyter.widget-view+json": {
       "model_id": "",
       "version_major": 2,
       "version_minor": 0
      },
      "text/plain": [
       "VBox(children=(Label(value=' 0.00MB of 0.00MB uploaded (0.00MB deduped)\\r'), FloatProgress(value=1.0, max=1.0)…"
      ]
     },
     "metadata": {},
     "output_type": "display_data"
    },
    {
     "data": {
      "text/html": [
       "<style>\n",
       "    table.wandb td:nth-child(1) { padding: 0 10px; text-align: right }\n",
       "    .wandb-row { display: flex; flex-direction: row; flex-wrap: wrap; width: 100% }\n",
       "    .wandb-col { display: flex; flex-direction: column; flex-basis: 100%; flex: 1; padding: 10px; }\n",
       "    </style>\n",
       "<div class=\"wandb-row\"><div class=\"wandb-col\">\n",
       "<h3>Run history:</h3><br/><table class=\"wandb\"><tr><td>pearson</td><td>▁</td></tr></table><br/></div><div class=\"wandb-col\">\n",
       "<h3>Run summary:</h3><br/><table class=\"wandb\"><tr><td>pearson</td><td>0.63712</td></tr></table>\n",
       "</div></div>\n",
       "Synced 4 W&B file(s), 0 media file(s), 0 artifact file(s) and 0 other file(s)\n",
       "<br/>Synced <strong style=\"color:#cdcd00\">neat-sweep-8</strong>: <a href=\"https://wandb.ai/notsomonk/SemEval-Task-8/runs/oa8q2lof\" target=\"_blank\">https://wandb.ai/notsomonk/SemEval-Task-8/runs/oa8q2lof</a><br/>\n",
       "Find logs at: <code>./wandb/run-20220301_071813-oa8q2lof/logs</code><br/>\n"
      ],
      "text/plain": [
       "<IPython.core.display.HTML object>"
      ]
     },
     "metadata": {},
     "output_type": "display_data"
    },
    {
     "name": "stderr",
     "output_type": "stream",
     "text": [
      "\u001b[34m\u001b[1mwandb\u001b[0m: Agent Starting Run: dterhg5w with config:\n",
      "\u001b[34m\u001b[1mwandb\u001b[0m: \talpha: 0.050208873259071245\n",
      "\u001b[34m\u001b[1mwandb\u001b[0m: \tdegree: 4\n",
      "\u001b[34m\u001b[1mwandb\u001b[0m: \tkernel: poly\n",
      "\u001b[34m\u001b[1mwandb\u001b[0m: wandb version 0.12.10 is available!  To upgrade, please run:\n",
      "\u001b[34m\u001b[1mwandb\u001b[0m:  $ pip install wandb --upgrade\n"
     ]
    },
    {
     "data": {
      "text/html": [
       "\n",
       "                    Syncing run <strong><a href=\"https://wandb.ai/notsomonk/SemEval-Task-8/runs/dterhg5w\" target=\"_blank\">classic-sweep-9</a></strong> to <a href=\"https://wandb.ai/notsomonk/SemEval-Task-8\" target=\"_blank\">Weights & Biases</a> (<a href=\"https://docs.wandb.com/integrations/jupyter.html\" target=\"_blank\">docs</a>).<br/>\n",
       "Sweep page: <a href=\"https://wandb.ai/notsomonk/SemEval-Task-8/sweeps/7mjehf2z\" target=\"_blank\">https://wandb.ai/notsomonk/SemEval-Task-8/sweeps/7mjehf2z</a><br/>\n",
       "\n",
       "                "
      ],
      "text/plain": [
       "<IPython.core.display.HTML object>"
      ]
     },
     "metadata": {},
     "output_type": "display_data"
    },
    {
     "data": {
      "text/html": [
       "<br/>Waiting for W&B process to finish, PID 7645... <strong style=\"color:green\">(success).</strong>"
      ],
      "text/plain": [
       "<IPython.core.display.HTML object>"
      ]
     },
     "metadata": {},
     "output_type": "display_data"
    },
    {
     "data": {
      "application/vnd.jupyter.widget-view+json": {
       "model_id": "",
       "version_major": 2,
       "version_minor": 0
      },
      "text/plain": [
       "VBox(children=(Label(value=' 0.00MB of 0.00MB uploaded (0.00MB deduped)\\r'), FloatProgress(value=1.0, max=1.0)…"
      ]
     },
     "metadata": {},
     "output_type": "display_data"
    },
    {
     "data": {
      "text/html": [
       "<style>\n",
       "    table.wandb td:nth-child(1) { padding: 0 10px; text-align: right }\n",
       "    .wandb-row { display: flex; flex-direction: row; flex-wrap: wrap; width: 100% }\n",
       "    .wandb-col { display: flex; flex-direction: column; flex-basis: 100%; flex: 1; padding: 10px; }\n",
       "    </style>\n",
       "<div class=\"wandb-row\"><div class=\"wandb-col\">\n",
       "<h3>Run history:</h3><br/><table class=\"wandb\"><tr><td>pearson</td><td>▁</td></tr></table><br/></div><div class=\"wandb-col\">\n",
       "<h3>Run summary:</h3><br/><table class=\"wandb\"><tr><td>pearson</td><td>0.63727</td></tr></table>\n",
       "</div></div>\n",
       "Synced 4 W&B file(s), 0 media file(s), 0 artifact file(s) and 0 other file(s)\n",
       "<br/>Synced <strong style=\"color:#cdcd00\">classic-sweep-9</strong>: <a href=\"https://wandb.ai/notsomonk/SemEval-Task-8/runs/dterhg5w\" target=\"_blank\">https://wandb.ai/notsomonk/SemEval-Task-8/runs/dterhg5w</a><br/>\n",
       "Find logs at: <code>./wandb/run-20220301_071826-dterhg5w/logs</code><br/>\n"
      ],
      "text/plain": [
       "<IPython.core.display.HTML object>"
      ]
     },
     "metadata": {},
     "output_type": "display_data"
    },
    {
     "name": "stderr",
     "output_type": "stream",
     "text": [
      "\u001b[34m\u001b[1mwandb\u001b[0m: Agent Starting Run: t12eljew with config:\n",
      "\u001b[34m\u001b[1mwandb\u001b[0m: \talpha: 0.08216220297540605\n",
      "\u001b[34m\u001b[1mwandb\u001b[0m: \tdegree: 4\n",
      "\u001b[34m\u001b[1mwandb\u001b[0m: \tkernel: poly\n",
      "\u001b[34m\u001b[1mwandb\u001b[0m: wandb version 0.12.10 is available!  To upgrade, please run:\n",
      "\u001b[34m\u001b[1mwandb\u001b[0m:  $ pip install wandb --upgrade\n"
     ]
    },
    {
     "data": {
      "text/html": [
       "\n",
       "                    Syncing run <strong><a href=\"https://wandb.ai/notsomonk/SemEval-Task-8/runs/t12eljew\" target=\"_blank\">misty-sweep-10</a></strong> to <a href=\"https://wandb.ai/notsomonk/SemEval-Task-8\" target=\"_blank\">Weights & Biases</a> (<a href=\"https://docs.wandb.com/integrations/jupyter.html\" target=\"_blank\">docs</a>).<br/>\n",
       "Sweep page: <a href=\"https://wandb.ai/notsomonk/SemEval-Task-8/sweeps/7mjehf2z\" target=\"_blank\">https://wandb.ai/notsomonk/SemEval-Task-8/sweeps/7mjehf2z</a><br/>\n",
       "\n",
       "                "
      ],
      "text/plain": [
       "<IPython.core.display.HTML object>"
      ]
     },
     "metadata": {},
     "output_type": "display_data"
    },
    {
     "data": {
      "text/html": [
       "<br/>Waiting for W&B process to finish, PID 7729... <strong style=\"color:green\">(success).</strong>"
      ],
      "text/plain": [
       "<IPython.core.display.HTML object>"
      ]
     },
     "metadata": {},
     "output_type": "display_data"
    },
    {
     "data": {
      "application/vnd.jupyter.widget-view+json": {
       "model_id": "",
       "version_major": 2,
       "version_minor": 0
      },
      "text/plain": [
       "VBox(children=(Label(value=' 0.00MB of 0.00MB uploaded (0.00MB deduped)\\r'), FloatProgress(value=1.0, max=1.0)…"
      ]
     },
     "metadata": {},
     "output_type": "display_data"
    },
    {
     "data": {
      "text/html": [
       "<style>\n",
       "    table.wandb td:nth-child(1) { padding: 0 10px; text-align: right }\n",
       "    .wandb-row { display: flex; flex-direction: row; flex-wrap: wrap; width: 100% }\n",
       "    .wandb-col { display: flex; flex-direction: column; flex-basis: 100%; flex: 1; padding: 10px; }\n",
       "    </style>\n",
       "<div class=\"wandb-row\"><div class=\"wandb-col\">\n",
       "<h3>Run history:</h3><br/><table class=\"wandb\"><tr><td>pearson</td><td>▁</td></tr></table><br/></div><div class=\"wandb-col\">\n",
       "<h3>Run summary:</h3><br/><table class=\"wandb\"><tr><td>pearson</td><td>0.63722</td></tr></table>\n",
       "</div></div>\n",
       "Synced 4 W&B file(s), 0 media file(s), 0 artifact file(s) and 0 other file(s)\n",
       "<br/>Synced <strong style=\"color:#cdcd00\">misty-sweep-10</strong>: <a href=\"https://wandb.ai/notsomonk/SemEval-Task-8/runs/t12eljew\" target=\"_blank\">https://wandb.ai/notsomonk/SemEval-Task-8/runs/t12eljew</a><br/>\n",
       "Find logs at: <code>./wandb/run-20220301_071839-t12eljew/logs</code><br/>\n"
      ],
      "text/plain": [
       "<IPython.core.display.HTML object>"
      ]
     },
     "metadata": {},
     "output_type": "display_data"
    },
    {
     "name": "stderr",
     "output_type": "stream",
     "text": [
      "\u001b[34m\u001b[1mwandb\u001b[0m: Agent Starting Run: xf7qkx2q with config:\n",
      "\u001b[34m\u001b[1mwandb\u001b[0m: \talpha: 0.06714877764300227\n",
      "\u001b[34m\u001b[1mwandb\u001b[0m: \tdegree: 4\n",
      "\u001b[34m\u001b[1mwandb\u001b[0m: \tkernel: poly\n",
      "\u001b[34m\u001b[1mwandb\u001b[0m: wandb version 0.12.10 is available!  To upgrade, please run:\n",
      "\u001b[34m\u001b[1mwandb\u001b[0m:  $ pip install wandb --upgrade\n"
     ]
    },
    {
     "data": {
      "text/html": [
       "\n",
       "                    Syncing run <strong><a href=\"https://wandb.ai/notsomonk/SemEval-Task-8/runs/xf7qkx2q\" target=\"_blank\">atomic-sweep-11</a></strong> to <a href=\"https://wandb.ai/notsomonk/SemEval-Task-8\" target=\"_blank\">Weights & Biases</a> (<a href=\"https://docs.wandb.com/integrations/jupyter.html\" target=\"_blank\">docs</a>).<br/>\n",
       "Sweep page: <a href=\"https://wandb.ai/notsomonk/SemEval-Task-8/sweeps/7mjehf2z\" target=\"_blank\">https://wandb.ai/notsomonk/SemEval-Task-8/sweeps/7mjehf2z</a><br/>\n",
       "\n",
       "                "
      ],
      "text/plain": [
       "<IPython.core.display.HTML object>"
      ]
     },
     "metadata": {},
     "output_type": "display_data"
    },
    {
     "data": {
      "text/html": [
       "<br/>Waiting for W&B process to finish, PID 7796... <strong style=\"color:green\">(success).</strong>"
      ],
      "text/plain": [
       "<IPython.core.display.HTML object>"
      ]
     },
     "metadata": {},
     "output_type": "display_data"
    },
    {
     "data": {
      "application/vnd.jupyter.widget-view+json": {
       "model_id": "",
       "version_major": 2,
       "version_minor": 0
      },
      "text/plain": [
       "VBox(children=(Label(value=' 0.00MB of 0.00MB uploaded (0.00MB deduped)\\r'), FloatProgress(value=1.0, max=1.0)…"
      ]
     },
     "metadata": {},
     "output_type": "display_data"
    },
    {
     "data": {
      "text/html": [
       "<style>\n",
       "    table.wandb td:nth-child(1) { padding: 0 10px; text-align: right }\n",
       "    .wandb-row { display: flex; flex-direction: row; flex-wrap: wrap; width: 100% }\n",
       "    .wandb-col { display: flex; flex-direction: column; flex-basis: 100%; flex: 1; padding: 10px; }\n",
       "    </style>\n",
       "<div class=\"wandb-row\"><div class=\"wandb-col\">\n",
       "<h3>Run history:</h3><br/><table class=\"wandb\"><tr><td>pearson</td><td>▁</td></tr></table><br/></div><div class=\"wandb-col\">\n",
       "<h3>Run summary:</h3><br/><table class=\"wandb\"><tr><td>pearson</td><td>0.63724</td></tr></table>\n",
       "</div></div>\n",
       "Synced 4 W&B file(s), 0 media file(s), 0 artifact file(s) and 0 other file(s)\n",
       "<br/>Synced <strong style=\"color:#cdcd00\">atomic-sweep-11</strong>: <a href=\"https://wandb.ai/notsomonk/SemEval-Task-8/runs/xf7qkx2q\" target=\"_blank\">https://wandb.ai/notsomonk/SemEval-Task-8/runs/xf7qkx2q</a><br/>\n",
       "Find logs at: <code>./wandb/run-20220301_071854-xf7qkx2q/logs</code><br/>\n"
      ],
      "text/plain": [
       "<IPython.core.display.HTML object>"
      ]
     },
     "metadata": {},
     "output_type": "display_data"
    },
    {
     "name": "stderr",
     "output_type": "stream",
     "text": [
      "\u001b[34m\u001b[1mwandb\u001b[0m: Agent Starting Run: t5g4n2x0 with config:\n",
      "\u001b[34m\u001b[1mwandb\u001b[0m: \talpha: 0.185368633009365\n",
      "\u001b[34m\u001b[1mwandb\u001b[0m: \tdegree: 4\n",
      "\u001b[34m\u001b[1mwandb\u001b[0m: \tkernel: poly\n",
      "\u001b[34m\u001b[1mwandb\u001b[0m: wandb version 0.12.10 is available!  To upgrade, please run:\n",
      "\u001b[34m\u001b[1mwandb\u001b[0m:  $ pip install wandb --upgrade\n"
     ]
    },
    {
     "data": {
      "text/html": [
       "\n",
       "                    Syncing run <strong><a href=\"https://wandb.ai/notsomonk/SemEval-Task-8/runs/t5g4n2x0\" target=\"_blank\">rosy-sweep-12</a></strong> to <a href=\"https://wandb.ai/notsomonk/SemEval-Task-8\" target=\"_blank\">Weights & Biases</a> (<a href=\"https://docs.wandb.com/integrations/jupyter.html\" target=\"_blank\">docs</a>).<br/>\n",
       "Sweep page: <a href=\"https://wandb.ai/notsomonk/SemEval-Task-8/sweeps/7mjehf2z\" target=\"_blank\">https://wandb.ai/notsomonk/SemEval-Task-8/sweeps/7mjehf2z</a><br/>\n",
       "\n",
       "                "
      ],
      "text/plain": [
       "<IPython.core.display.HTML object>"
      ]
     },
     "metadata": {},
     "output_type": "display_data"
    },
    {
     "data": {
      "text/html": [
       "<br/>Waiting for W&B process to finish, PID 7871... <strong style=\"color:green\">(success).</strong>"
      ],
      "text/plain": [
       "<IPython.core.display.HTML object>"
      ]
     },
     "metadata": {},
     "output_type": "display_data"
    },
    {
     "data": {
      "application/vnd.jupyter.widget-view+json": {
       "model_id": "",
       "version_major": 2,
       "version_minor": 0
      },
      "text/plain": [
       "VBox(children=(Label(value=' 0.00MB of 0.00MB uploaded (0.00MB deduped)\\r'), FloatProgress(value=1.0, max=1.0)…"
      ]
     },
     "metadata": {},
     "output_type": "display_data"
    },
    {
     "data": {
      "text/html": [
       "<style>\n",
       "    table.wandb td:nth-child(1) { padding: 0 10px; text-align: right }\n",
       "    .wandb-row { display: flex; flex-direction: row; flex-wrap: wrap; width: 100% }\n",
       "    .wandb-col { display: flex; flex-direction: column; flex-basis: 100%; flex: 1; padding: 10px; }\n",
       "    </style>\n",
       "<div class=\"wandb-row\"><div class=\"wandb-col\">\n",
       "<h3>Run history:</h3><br/><table class=\"wandb\"><tr><td>pearson</td><td>▁</td></tr></table><br/></div><div class=\"wandb-col\">\n",
       "<h3>Run summary:</h3><br/><table class=\"wandb\"><tr><td>pearson</td><td>0.63708</td></tr></table>\n",
       "</div></div>\n",
       "Synced 4 W&B file(s), 0 media file(s), 0 artifact file(s) and 0 other file(s)\n",
       "<br/>Synced <strong style=\"color:#cdcd00\">rosy-sweep-12</strong>: <a href=\"https://wandb.ai/notsomonk/SemEval-Task-8/runs/t5g4n2x0\" target=\"_blank\">https://wandb.ai/notsomonk/SemEval-Task-8/runs/t5g4n2x0</a><br/>\n",
       "Find logs at: <code>./wandb/run-20220301_071906-t5g4n2x0/logs</code><br/>\n"
      ],
      "text/plain": [
       "<IPython.core.display.HTML object>"
      ]
     },
     "metadata": {},
     "output_type": "display_data"
    },
    {
     "name": "stderr",
     "output_type": "stream",
     "text": [
      "\u001b[34m\u001b[1mwandb\u001b[0m: Agent Starting Run: u4lt6hgj with config:\n",
      "\u001b[34m\u001b[1mwandb\u001b[0m: \talpha: 0.10300098680606908\n",
      "\u001b[34m\u001b[1mwandb\u001b[0m: \tdegree: 4\n",
      "\u001b[34m\u001b[1mwandb\u001b[0m: \tkernel: poly\n",
      "\u001b[34m\u001b[1mwandb\u001b[0m: wandb version 0.12.10 is available!  To upgrade, please run:\n",
      "\u001b[34m\u001b[1mwandb\u001b[0m:  $ pip install wandb --upgrade\n"
     ]
    },
    {
     "data": {
      "text/html": [
       "\n",
       "                    Syncing run <strong><a href=\"https://wandb.ai/notsomonk/SemEval-Task-8/runs/u4lt6hgj\" target=\"_blank\">northern-sweep-13</a></strong> to <a href=\"https://wandb.ai/notsomonk/SemEval-Task-8\" target=\"_blank\">Weights & Biases</a> (<a href=\"https://docs.wandb.com/integrations/jupyter.html\" target=\"_blank\">docs</a>).<br/>\n",
       "Sweep page: <a href=\"https://wandb.ai/notsomonk/SemEval-Task-8/sweeps/7mjehf2z\" target=\"_blank\">https://wandb.ai/notsomonk/SemEval-Task-8/sweeps/7mjehf2z</a><br/>\n",
       "\n",
       "                "
      ],
      "text/plain": [
       "<IPython.core.display.HTML object>"
      ]
     },
     "metadata": {},
     "output_type": "display_data"
    },
    {
     "data": {
      "text/html": [
       "<br/>Waiting for W&B process to finish, PID 7959... <strong style=\"color:green\">(success).</strong>"
      ],
      "text/plain": [
       "<IPython.core.display.HTML object>"
      ]
     },
     "metadata": {},
     "output_type": "display_data"
    },
    {
     "data": {
      "application/vnd.jupyter.widget-view+json": {
       "model_id": "",
       "version_major": 2,
       "version_minor": 0
      },
      "text/plain": [
       "VBox(children=(Label(value=' 0.00MB of 0.00MB uploaded (0.00MB deduped)\\r'), FloatProgress(value=1.0, max=1.0)…"
      ]
     },
     "metadata": {},
     "output_type": "display_data"
    },
    {
     "data": {
      "text/html": [
       "<style>\n",
       "    table.wandb td:nth-child(1) { padding: 0 10px; text-align: right }\n",
       "    .wandb-row { display: flex; flex-direction: row; flex-wrap: wrap; width: 100% }\n",
       "    .wandb-col { display: flex; flex-direction: column; flex-basis: 100%; flex: 1; padding: 10px; }\n",
       "    </style>\n",
       "<div class=\"wandb-row\"><div class=\"wandb-col\">\n",
       "<h3>Run history:</h3><br/><table class=\"wandb\"><tr><td>pearson</td><td>▁</td></tr></table><br/></div><div class=\"wandb-col\">\n",
       "<h3>Run summary:</h3><br/><table class=\"wandb\"><tr><td>pearson</td><td>0.63718</td></tr></table>\n",
       "</div></div>\n",
       "Synced 4 W&B file(s), 0 media file(s), 0 artifact file(s) and 0 other file(s)\n",
       "<br/>Synced <strong style=\"color:#cdcd00\">northern-sweep-13</strong>: <a href=\"https://wandb.ai/notsomonk/SemEval-Task-8/runs/u4lt6hgj\" target=\"_blank\">https://wandb.ai/notsomonk/SemEval-Task-8/runs/u4lt6hgj</a><br/>\n",
       "Find logs at: <code>./wandb/run-20220301_071927-u4lt6hgj/logs</code><br/>\n"
      ],
      "text/plain": [
       "<IPython.core.display.HTML object>"
      ]
     },
     "metadata": {},
     "output_type": "display_data"
    },
    {
     "name": "stderr",
     "output_type": "stream",
     "text": [
      "\u001b[34m\u001b[1mwandb\u001b[0m: Agent Starting Run: tpkqv0qk with config:\n",
      "\u001b[34m\u001b[1mwandb\u001b[0m: \talpha: 0.0571562391358595\n",
      "\u001b[34m\u001b[1mwandb\u001b[0m: \tdegree: 4\n",
      "\u001b[34m\u001b[1mwandb\u001b[0m: \tkernel: poly\n",
      "\u001b[34m\u001b[1mwandb\u001b[0m: wandb version 0.12.10 is available!  To upgrade, please run:\n",
      "\u001b[34m\u001b[1mwandb\u001b[0m:  $ pip install wandb --upgrade\n"
     ]
    },
    {
     "data": {
      "text/html": [
       "\n",
       "                    Syncing run <strong><a href=\"https://wandb.ai/notsomonk/SemEval-Task-8/runs/tpkqv0qk\" target=\"_blank\">sweepy-sweep-14</a></strong> to <a href=\"https://wandb.ai/notsomonk/SemEval-Task-8\" target=\"_blank\">Weights & Biases</a> (<a href=\"https://docs.wandb.com/integrations/jupyter.html\" target=\"_blank\">docs</a>).<br/>\n",
       "Sweep page: <a href=\"https://wandb.ai/notsomonk/SemEval-Task-8/sweeps/7mjehf2z\" target=\"_blank\">https://wandb.ai/notsomonk/SemEval-Task-8/sweeps/7mjehf2z</a><br/>\n",
       "\n",
       "                "
      ],
      "text/plain": [
       "<IPython.core.display.HTML object>"
      ]
     },
     "metadata": {},
     "output_type": "display_data"
    },
    {
     "data": {
      "text/html": [
       "<br/>Waiting for W&B process to finish, PID 8043... <strong style=\"color:green\">(success).</strong>"
      ],
      "text/plain": [
       "<IPython.core.display.HTML object>"
      ]
     },
     "metadata": {},
     "output_type": "display_data"
    },
    {
     "data": {
      "application/vnd.jupyter.widget-view+json": {
       "model_id": "",
       "version_major": 2,
       "version_minor": 0
      },
      "text/plain": [
       "VBox(children=(Label(value=' 0.00MB of 0.00MB uploaded (0.00MB deduped)\\r'), FloatProgress(value=1.0, max=1.0)…"
      ]
     },
     "metadata": {},
     "output_type": "display_data"
    },
    {
     "data": {
      "text/html": [
       "<style>\n",
       "    table.wandb td:nth-child(1) { padding: 0 10px; text-align: right }\n",
       "    .wandb-row { display: flex; flex-direction: row; flex-wrap: wrap; width: 100% }\n",
       "    .wandb-col { display: flex; flex-direction: column; flex-basis: 100%; flex: 1; padding: 10px; }\n",
       "    </style>\n",
       "<div class=\"wandb-row\"><div class=\"wandb-col\">\n",
       "<h3>Run history:</h3><br/><table class=\"wandb\"><tr><td>pearson</td><td>▁</td></tr></table><br/></div><div class=\"wandb-col\">\n",
       "<h3>Run summary:</h3><br/><table class=\"wandb\"><tr><td>pearson</td><td>0.63726</td></tr></table>\n",
       "</div></div>\n",
       "Synced 4 W&B file(s), 0 media file(s), 0 artifact file(s) and 0 other file(s)\n",
       "<br/>Synced <strong style=\"color:#cdcd00\">sweepy-sweep-14</strong>: <a href=\"https://wandb.ai/notsomonk/SemEval-Task-8/runs/tpkqv0qk\" target=\"_blank\">https://wandb.ai/notsomonk/SemEval-Task-8/runs/tpkqv0qk</a><br/>\n",
       "Find logs at: <code>./wandb/run-20220301_071940-tpkqv0qk/logs</code><br/>\n"
      ],
      "text/plain": [
       "<IPython.core.display.HTML object>"
      ]
     },
     "metadata": {},
     "output_type": "display_data"
    },
    {
     "name": "stderr",
     "output_type": "stream",
     "text": [
      "\u001b[34m\u001b[1mwandb\u001b[0m: Agent Starting Run: zgeyi7c2 with config:\n",
      "\u001b[34m\u001b[1mwandb\u001b[0m: \talpha: 0.0949210248220363\n",
      "\u001b[34m\u001b[1mwandb\u001b[0m: \tdegree: 4\n",
      "\u001b[34m\u001b[1mwandb\u001b[0m: \tkernel: poly\n",
      "\u001b[34m\u001b[1mwandb\u001b[0m: wandb version 0.12.10 is available!  To upgrade, please run:\n",
      "\u001b[34m\u001b[1mwandb\u001b[0m:  $ pip install wandb --upgrade\n"
     ]
    },
    {
     "data": {
      "text/html": [
       "\n",
       "                    Syncing run <strong><a href=\"https://wandb.ai/notsomonk/SemEval-Task-8/runs/zgeyi7c2\" target=\"_blank\">magic-sweep-15</a></strong> to <a href=\"https://wandb.ai/notsomonk/SemEval-Task-8\" target=\"_blank\">Weights & Biases</a> (<a href=\"https://docs.wandb.com/integrations/jupyter.html\" target=\"_blank\">docs</a>).<br/>\n",
       "Sweep page: <a href=\"https://wandb.ai/notsomonk/SemEval-Task-8/sweeps/7mjehf2z\" target=\"_blank\">https://wandb.ai/notsomonk/SemEval-Task-8/sweeps/7mjehf2z</a><br/>\n",
       "\n",
       "                "
      ],
      "text/plain": [
       "<IPython.core.display.HTML object>"
      ]
     },
     "metadata": {},
     "output_type": "display_data"
    },
    {
     "data": {
      "text/html": [
       "<br/>Waiting for W&B process to finish, PID 8119... <strong style=\"color:green\">(success).</strong>"
      ],
      "text/plain": [
       "<IPython.core.display.HTML object>"
      ]
     },
     "metadata": {},
     "output_type": "display_data"
    },
    {
     "data": {
      "application/vnd.jupyter.widget-view+json": {
       "model_id": "",
       "version_major": 2,
       "version_minor": 0
      },
      "text/plain": [
       "VBox(children=(Label(value=' 0.00MB of 0.00MB uploaded (0.00MB deduped)\\r'), FloatProgress(value=1.0, max=1.0)…"
      ]
     },
     "metadata": {},
     "output_type": "display_data"
    },
    {
     "data": {
      "text/html": [
       "<style>\n",
       "    table.wandb td:nth-child(1) { padding: 0 10px; text-align: right }\n",
       "    .wandb-row { display: flex; flex-direction: row; flex-wrap: wrap; width: 100% }\n",
       "    .wandb-col { display: flex; flex-direction: column; flex-basis: 100%; flex: 1; padding: 10px; }\n",
       "    </style>\n",
       "<div class=\"wandb-row\"><div class=\"wandb-col\">\n",
       "<h3>Run history:</h3><br/><table class=\"wandb\"><tr><td>pearson</td><td>▁</td></tr></table><br/></div><div class=\"wandb-col\">\n",
       "<h3>Run summary:</h3><br/><table class=\"wandb\"><tr><td>pearson</td><td>0.63719</td></tr></table>\n",
       "</div></div>\n",
       "Synced 4 W&B file(s), 0 media file(s), 0 artifact file(s) and 0 other file(s)\n",
       "<br/>Synced <strong style=\"color:#cdcd00\">magic-sweep-15</strong>: <a href=\"https://wandb.ai/notsomonk/SemEval-Task-8/runs/zgeyi7c2\" target=\"_blank\">https://wandb.ai/notsomonk/SemEval-Task-8/runs/zgeyi7c2</a><br/>\n",
       "Find logs at: <code>./wandb/run-20220301_071952-zgeyi7c2/logs</code><br/>\n"
      ],
      "text/plain": [
       "<IPython.core.display.HTML object>"
      ]
     },
     "metadata": {},
     "output_type": "display_data"
    },
    {
     "name": "stderr",
     "output_type": "stream",
     "text": [
      "\u001b[34m\u001b[1mwandb\u001b[0m: Agent Starting Run: gpth7a2n with config:\n",
      "\u001b[34m\u001b[1mwandb\u001b[0m: \talpha: 0.0870819433648389\n",
      "\u001b[34m\u001b[1mwandb\u001b[0m: \tdegree: 4\n",
      "\u001b[34m\u001b[1mwandb\u001b[0m: \tkernel: poly\n",
      "\u001b[34m\u001b[1mwandb\u001b[0m: wandb version 0.12.10 is available!  To upgrade, please run:\n",
      "\u001b[34m\u001b[1mwandb\u001b[0m:  $ pip install wandb --upgrade\n"
     ]
    },
    {
     "data": {
      "text/html": [
       "\n",
       "                    Syncing run <strong><a href=\"https://wandb.ai/notsomonk/SemEval-Task-8/runs/gpth7a2n\" target=\"_blank\">olive-sweep-16</a></strong> to <a href=\"https://wandb.ai/notsomonk/SemEval-Task-8\" target=\"_blank\">Weights & Biases</a> (<a href=\"https://docs.wandb.com/integrations/jupyter.html\" target=\"_blank\">docs</a>).<br/>\n",
       "Sweep page: <a href=\"https://wandb.ai/notsomonk/SemEval-Task-8/sweeps/7mjehf2z\" target=\"_blank\">https://wandb.ai/notsomonk/SemEval-Task-8/sweeps/7mjehf2z</a><br/>\n",
       "\n",
       "                "
      ],
      "text/plain": [
       "<IPython.core.display.HTML object>"
      ]
     },
     "metadata": {},
     "output_type": "display_data"
    },
    {
     "data": {
      "text/html": [
       "<br/>Waiting for W&B process to finish, PID 8168... <strong style=\"color:green\">(success).</strong>"
      ],
      "text/plain": [
       "<IPython.core.display.HTML object>"
      ]
     },
     "metadata": {},
     "output_type": "display_data"
    },
    {
     "data": {
      "application/vnd.jupyter.widget-view+json": {
       "model_id": "",
       "version_major": 2,
       "version_minor": 0
      },
      "text/plain": [
       "VBox(children=(Label(value=' 0.00MB of 0.00MB uploaded (0.00MB deduped)\\r'), FloatProgress(value=1.0, max=1.0)…"
      ]
     },
     "metadata": {},
     "output_type": "display_data"
    },
    {
     "data": {
      "text/html": [
       "<style>\n",
       "    table.wandb td:nth-child(1) { padding: 0 10px; text-align: right }\n",
       "    .wandb-row { display: flex; flex-direction: row; flex-wrap: wrap; width: 100% }\n",
       "    .wandb-col { display: flex; flex-direction: column; flex-basis: 100%; flex: 1; padding: 10px; }\n",
       "    </style>\n",
       "<div class=\"wandb-row\"><div class=\"wandb-col\">\n",
       "<h3>Run history:</h3><br/><table class=\"wandb\"><tr><td>pearson</td><td>▁</td></tr></table><br/></div><div class=\"wandb-col\">\n",
       "<h3>Run summary:</h3><br/><table class=\"wandb\"><tr><td>pearson</td><td>0.63721</td></tr></table>\n",
       "</div></div>\n",
       "Synced 4 W&B file(s), 0 media file(s), 0 artifact file(s) and 0 other file(s)\n",
       "<br/>Synced <strong style=\"color:#cdcd00\">olive-sweep-16</strong>: <a href=\"https://wandb.ai/notsomonk/SemEval-Task-8/runs/gpth7a2n\" target=\"_blank\">https://wandb.ai/notsomonk/SemEval-Task-8/runs/gpth7a2n</a><br/>\n",
       "Find logs at: <code>./wandb/run-20220301_072005-gpth7a2n/logs</code><br/>\n"
      ],
      "text/plain": [
       "<IPython.core.display.HTML object>"
      ]
     },
     "metadata": {},
     "output_type": "display_data"
    },
    {
     "name": "stderr",
     "output_type": "stream",
     "text": [
      "\u001b[34m\u001b[1mwandb\u001b[0m: Agent Starting Run: tnoy1sso with config:\n",
      "\u001b[34m\u001b[1mwandb\u001b[0m: \talpha: 0.08507786318130203\n",
      "\u001b[34m\u001b[1mwandb\u001b[0m: \tdegree: 4\n",
      "\u001b[34m\u001b[1mwandb\u001b[0m: \tkernel: poly\n",
      "\u001b[34m\u001b[1mwandb\u001b[0m: wandb version 0.12.10 is available!  To upgrade, please run:\n",
      "\u001b[34m\u001b[1mwandb\u001b[0m:  $ pip install wandb --upgrade\n"
     ]
    },
    {
     "data": {
      "text/html": [
       "\n",
       "                    Syncing run <strong><a href=\"https://wandb.ai/notsomonk/SemEval-Task-8/runs/tnoy1sso\" target=\"_blank\">comic-sweep-17</a></strong> to <a href=\"https://wandb.ai/notsomonk/SemEval-Task-8\" target=\"_blank\">Weights & Biases</a> (<a href=\"https://docs.wandb.com/integrations/jupyter.html\" target=\"_blank\">docs</a>).<br/>\n",
       "Sweep page: <a href=\"https://wandb.ai/notsomonk/SemEval-Task-8/sweeps/7mjehf2z\" target=\"_blank\">https://wandb.ai/notsomonk/SemEval-Task-8/sweeps/7mjehf2z</a><br/>\n",
       "\n",
       "                "
      ],
      "text/plain": [
       "<IPython.core.display.HTML object>"
      ]
     },
     "metadata": {},
     "output_type": "display_data"
    },
    {
     "data": {
      "text/html": [
       "<br/>Waiting for W&B process to finish, PID 8249... <strong style=\"color:green\">(success).</strong>"
      ],
      "text/plain": [
       "<IPython.core.display.HTML object>"
      ]
     },
     "metadata": {},
     "output_type": "display_data"
    },
    {
     "data": {
      "application/vnd.jupyter.widget-view+json": {
       "model_id": "",
       "version_major": 2,
       "version_minor": 0
      },
      "text/plain": [
       "VBox(children=(Label(value=' 0.00MB of 0.00MB uploaded (0.00MB deduped)\\r'), FloatProgress(value=1.0, max=1.0)…"
      ]
     },
     "metadata": {},
     "output_type": "display_data"
    },
    {
     "data": {
      "text/html": [
       "<style>\n",
       "    table.wandb td:nth-child(1) { padding: 0 10px; text-align: right }\n",
       "    .wandb-row { display: flex; flex-direction: row; flex-wrap: wrap; width: 100% }\n",
       "    .wandb-col { display: flex; flex-direction: column; flex-basis: 100%; flex: 1; padding: 10px; }\n",
       "    </style>\n",
       "<div class=\"wandb-row\"><div class=\"wandb-col\">\n",
       "<h3>Run history:</h3><br/><table class=\"wandb\"><tr><td>pearson</td><td>▁</td></tr></table><br/></div><div class=\"wandb-col\">\n",
       "<h3>Run summary:</h3><br/><table class=\"wandb\"><tr><td>pearson</td><td>0.63721</td></tr></table>\n",
       "</div></div>\n",
       "Synced 4 W&B file(s), 0 media file(s), 0 artifact file(s) and 0 other file(s)\n",
       "<br/>Synced <strong style=\"color:#cdcd00\">comic-sweep-17</strong>: <a href=\"https://wandb.ai/notsomonk/SemEval-Task-8/runs/tnoy1sso\" target=\"_blank\">https://wandb.ai/notsomonk/SemEval-Task-8/runs/tnoy1sso</a><br/>\n",
       "Find logs at: <code>./wandb/run-20220301_072028-tnoy1sso/logs</code><br/>\n"
      ],
      "text/plain": [
       "<IPython.core.display.HTML object>"
      ]
     },
     "metadata": {},
     "output_type": "display_data"
    },
    {
     "name": "stderr",
     "output_type": "stream",
     "text": [
      "\u001b[34m\u001b[1mwandb\u001b[0m: Agent Starting Run: 8l6z0oe3 with config:\n",
      "\u001b[34m\u001b[1mwandb\u001b[0m: \talpha: 0.07538490009176158\n",
      "\u001b[34m\u001b[1mwandb\u001b[0m: \tdegree: 4\n",
      "\u001b[34m\u001b[1mwandb\u001b[0m: \tkernel: poly\n",
      "\u001b[34m\u001b[1mwandb\u001b[0m: wandb version 0.12.10 is available!  To upgrade, please run:\n",
      "\u001b[34m\u001b[1mwandb\u001b[0m:  $ pip install wandb --upgrade\n"
     ]
    },
    {
     "data": {
      "text/html": [
       "\n",
       "                    Syncing run <strong><a href=\"https://wandb.ai/notsomonk/SemEval-Task-8/runs/8l6z0oe3\" target=\"_blank\">colorful-sweep-18</a></strong> to <a href=\"https://wandb.ai/notsomonk/SemEval-Task-8\" target=\"_blank\">Weights & Biases</a> (<a href=\"https://docs.wandb.com/integrations/jupyter.html\" target=\"_blank\">docs</a>).<br/>\n",
       "Sweep page: <a href=\"https://wandb.ai/notsomonk/SemEval-Task-8/sweeps/7mjehf2z\" target=\"_blank\">https://wandb.ai/notsomonk/SemEval-Task-8/sweeps/7mjehf2z</a><br/>\n",
       "\n",
       "                "
      ],
      "text/plain": [
       "<IPython.core.display.HTML object>"
      ]
     },
     "metadata": {},
     "output_type": "display_data"
    },
    {
     "data": {
      "text/html": [
       "<br/>Waiting for W&B process to finish, PID 8297... <strong style=\"color:green\">(success).</strong>"
      ],
      "text/plain": [
       "<IPython.core.display.HTML object>"
      ]
     },
     "metadata": {},
     "output_type": "display_data"
    },
    {
     "data": {
      "application/vnd.jupyter.widget-view+json": {
       "model_id": "",
       "version_major": 2,
       "version_minor": 0
      },
      "text/plain": [
       "VBox(children=(Label(value=' 0.00MB of 0.00MB uploaded (0.00MB deduped)\\r'), FloatProgress(value=1.0, max=1.0)…"
      ]
     },
     "metadata": {},
     "output_type": "display_data"
    },
    {
     "data": {
      "text/html": [
       "<style>\n",
       "    table.wandb td:nth-child(1) { padding: 0 10px; text-align: right }\n",
       "    .wandb-row { display: flex; flex-direction: row; flex-wrap: wrap; width: 100% }\n",
       "    .wandb-col { display: flex; flex-direction: column; flex-basis: 100%; flex: 1; padding: 10px; }\n",
       "    </style>\n",
       "<div class=\"wandb-row\"><div class=\"wandb-col\">\n",
       "<h3>Run history:</h3><br/><table class=\"wandb\"><tr><td>pearson</td><td>▁</td></tr></table><br/></div><div class=\"wandb-col\">\n",
       "<h3>Run summary:</h3><br/><table class=\"wandb\"><tr><td>pearson</td><td>0.63723</td></tr></table>\n",
       "</div></div>\n",
       "Synced 4 W&B file(s), 0 media file(s), 0 artifact file(s) and 0 other file(s)\n",
       "<br/>Synced <strong style=\"color:#cdcd00\">colorful-sweep-18</strong>: <a href=\"https://wandb.ai/notsomonk/SemEval-Task-8/runs/8l6z0oe3\" target=\"_blank\">https://wandb.ai/notsomonk/SemEval-Task-8/runs/8l6z0oe3</a><br/>\n",
       "Find logs at: <code>./wandb/run-20220301_072040-8l6z0oe3/logs</code><br/>\n"
      ],
      "text/plain": [
       "<IPython.core.display.HTML object>"
      ]
     },
     "metadata": {},
     "output_type": "display_data"
    },
    {
     "name": "stderr",
     "output_type": "stream",
     "text": [
      "\u001b[34m\u001b[1mwandb\u001b[0m: Agent Starting Run: rvmertic with config:\n",
      "\u001b[34m\u001b[1mwandb\u001b[0m: \talpha: 0.17552812876606155\n",
      "\u001b[34m\u001b[1mwandb\u001b[0m: \tdegree: 4\n",
      "\u001b[34m\u001b[1mwandb\u001b[0m: \tkernel: poly\n",
      "\u001b[34m\u001b[1mwandb\u001b[0m: wandb version 0.12.10 is available!  To upgrade, please run:\n",
      "\u001b[34m\u001b[1mwandb\u001b[0m:  $ pip install wandb --upgrade\n"
     ]
    },
    {
     "data": {
      "text/html": [
       "\n",
       "                    Syncing run <strong><a href=\"https://wandb.ai/notsomonk/SemEval-Task-8/runs/rvmertic\" target=\"_blank\">ethereal-sweep-19</a></strong> to <a href=\"https://wandb.ai/notsomonk/SemEval-Task-8\" target=\"_blank\">Weights & Biases</a> (<a href=\"https://docs.wandb.com/integrations/jupyter.html\" target=\"_blank\">docs</a>).<br/>\n",
       "Sweep page: <a href=\"https://wandb.ai/notsomonk/SemEval-Task-8/sweeps/7mjehf2z\" target=\"_blank\">https://wandb.ai/notsomonk/SemEval-Task-8/sweeps/7mjehf2z</a><br/>\n",
       "\n",
       "                "
      ],
      "text/plain": [
       "<IPython.core.display.HTML object>"
      ]
     },
     "metadata": {},
     "output_type": "display_data"
    },
    {
     "data": {
      "text/html": [
       "<br/>Waiting for W&B process to finish, PID 8403... <strong style=\"color:green\">(success).</strong>"
      ],
      "text/plain": [
       "<IPython.core.display.HTML object>"
      ]
     },
     "metadata": {},
     "output_type": "display_data"
    },
    {
     "data": {
      "application/vnd.jupyter.widget-view+json": {
       "model_id": "",
       "version_major": 2,
       "version_minor": 0
      },
      "text/plain": [
       "VBox(children=(Label(value=' 0.00MB of 0.00MB uploaded (0.00MB deduped)\\r'), FloatProgress(value=1.0, max=1.0)…"
      ]
     },
     "metadata": {},
     "output_type": "display_data"
    },
    {
     "data": {
      "text/html": [
       "<style>\n",
       "    table.wandb td:nth-child(1) { padding: 0 10px; text-align: right }\n",
       "    .wandb-row { display: flex; flex-direction: row; flex-wrap: wrap; width: 100% }\n",
       "    .wandb-col { display: flex; flex-direction: column; flex-basis: 100%; flex: 1; padding: 10px; }\n",
       "    </style>\n",
       "<div class=\"wandb-row\"><div class=\"wandb-col\">\n",
       "<h3>Run history:</h3><br/><table class=\"wandb\"><tr><td>pearson</td><td>▁</td></tr></table><br/></div><div class=\"wandb-col\">\n",
       "<h3>Run summary:</h3><br/><table class=\"wandb\"><tr><td>pearson</td><td>0.63709</td></tr></table>\n",
       "</div></div>\n",
       "Synced 4 W&B file(s), 0 media file(s), 0 artifact file(s) and 0 other file(s)\n",
       "<br/>Synced <strong style=\"color:#cdcd00\">ethereal-sweep-19</strong>: <a href=\"https://wandb.ai/notsomonk/SemEval-Task-8/runs/rvmertic\" target=\"_blank\">https://wandb.ai/notsomonk/SemEval-Task-8/runs/rvmertic</a><br/>\n",
       "Find logs at: <code>./wandb/run-20220301_072052-rvmertic/logs</code><br/>\n"
      ],
      "text/plain": [
       "<IPython.core.display.HTML object>"
      ]
     },
     "metadata": {},
     "output_type": "display_data"
    },
    {
     "name": "stderr",
     "output_type": "stream",
     "text": [
      "\u001b[34m\u001b[1mwandb\u001b[0m: Agent Starting Run: ihvdz0tz with config:\n",
      "\u001b[34m\u001b[1mwandb\u001b[0m: \talpha: 0.05561780682005138\n",
      "\u001b[34m\u001b[1mwandb\u001b[0m: \tdegree: 4\n",
      "\u001b[34m\u001b[1mwandb\u001b[0m: \tkernel: poly\n",
      "\u001b[34m\u001b[1mwandb\u001b[0m: wandb version 0.12.10 is available!  To upgrade, please run:\n",
      "\u001b[34m\u001b[1mwandb\u001b[0m:  $ pip install wandb --upgrade\n"
     ]
    },
    {
     "data": {
      "text/html": [
       "\n",
       "                    Syncing run <strong><a href=\"https://wandb.ai/notsomonk/SemEval-Task-8/runs/ihvdz0tz\" target=\"_blank\">desert-sweep-20</a></strong> to <a href=\"https://wandb.ai/notsomonk/SemEval-Task-8\" target=\"_blank\">Weights & Biases</a> (<a href=\"https://docs.wandb.com/integrations/jupyter.html\" target=\"_blank\">docs</a>).<br/>\n",
       "Sweep page: <a href=\"https://wandb.ai/notsomonk/SemEval-Task-8/sweeps/7mjehf2z\" target=\"_blank\">https://wandb.ai/notsomonk/SemEval-Task-8/sweeps/7mjehf2z</a><br/>\n",
       "\n",
       "                "
      ],
      "text/plain": [
       "<IPython.core.display.HTML object>"
      ]
     },
     "metadata": {},
     "output_type": "display_data"
    },
    {
     "data": {
      "text/html": [
       "<br/>Waiting for W&B process to finish, PID 8450... <strong style=\"color:green\">(success).</strong>"
      ],
      "text/plain": [
       "<IPython.core.display.HTML object>"
      ]
     },
     "metadata": {},
     "output_type": "display_data"
    },
    {
     "data": {
      "application/vnd.jupyter.widget-view+json": {
       "model_id": "",
       "version_major": 2,
       "version_minor": 0
      },
      "text/plain": [
       "VBox(children=(Label(value=' 0.00MB of 0.00MB uploaded (0.00MB deduped)\\r'), FloatProgress(value=1.0, max=1.0)…"
      ]
     },
     "metadata": {},
     "output_type": "display_data"
    },
    {
     "data": {
      "text/html": [
       "<style>\n",
       "    table.wandb td:nth-child(1) { padding: 0 10px; text-align: right }\n",
       "    .wandb-row { display: flex; flex-direction: row; flex-wrap: wrap; width: 100% }\n",
       "    .wandb-col { display: flex; flex-direction: column; flex-basis: 100%; flex: 1; padding: 10px; }\n",
       "    </style>\n",
       "<div class=\"wandb-row\"><div class=\"wandb-col\">\n",
       "<h3>Run history:</h3><br/><table class=\"wandb\"><tr><td>pearson</td><td>▁</td></tr></table><br/></div><div class=\"wandb-col\">\n",
       "<h3>Run summary:</h3><br/><table class=\"wandb\"><tr><td>pearson</td><td>0.63726</td></tr></table>\n",
       "</div></div>\n",
       "Synced 4 W&B file(s), 0 media file(s), 0 artifact file(s) and 0 other file(s)\n",
       "<br/>Synced <strong style=\"color:#cdcd00\">desert-sweep-20</strong>: <a href=\"https://wandb.ai/notsomonk/SemEval-Task-8/runs/ihvdz0tz\" target=\"_blank\">https://wandb.ai/notsomonk/SemEval-Task-8/runs/ihvdz0tz</a><br/>\n",
       "Find logs at: <code>./wandb/run-20220301_072105-ihvdz0tz/logs</code><br/>\n"
      ],
      "text/plain": [
       "<IPython.core.display.HTML object>"
      ]
     },
     "metadata": {},
     "output_type": "display_data"
    }
   ],
   "source": [
    "def train():\n",
    "    with wandb.init() as run:\n",
    "        \n",
    "        train_path = CLEANED_PATH.format(data_type=DataType.train.name) + INFERENCE_FILE\n",
    "        test_path = CLEANED_PATH.format(data_type=DataType.test.name) + INFERENCE_FILE\n",
    "\n",
    "#         cols = ['sentences_mean', 'sentences_min', 'sentences_max',\n",
    "#                 'sentences_med', 'title', 'n1_title_n2_text',\n",
    "#                 'n2_title_n1_text', 'n1_title_n1_text',\n",
    "#                 'n2_title_n2_text', 'start_para', 'end_para', 'wmd_dist',\n",
    "#                 'overall']\n",
    "        cols = ['start_para', 'end_para', 'overall']\n",
    "        \n",
    "        train_df = read_csv(train_path, sep=',', usecols=cols)\n",
    "        train_df = train_df.drop_duplicates()\n",
    "        y = train_df.pop('overall')\n",
    "        train_x, train_y = train_df, y\n",
    "\n",
    "        test_df = read_csv(test_path, sep=',', usecols=cols)\n",
    "        test_df = test_df.drop_duplicates()\n",
    "        val_y = test_df.pop('overall')\n",
    "        val_x = test_df\n",
    "        \n",
    "        config = wandb.config\n",
    "        \n",
    "        r = KernelRidge(**config)\n",
    "        r.fit(train_x, train_y)\n",
    "        y_pred = r.predict(val_x)\n",
    "        y_pred = np.vectorize(clip_score)(y_pred)\n",
    "        p_s = pearsonr(y_pred, val_y)\n",
    "        wandb.log({\"pearson\": p_s[0]})\n",
    "\n",
    "count = 20\n",
    "wandb.agent(sweep_id, function=train, count=count)"
   ]
  },
  {
   "cell_type": "code",
   "execution_count": null,
   "id": "f310794a",
   "metadata": {},
   "outputs": [],
   "source": []
  }
 ],
 "metadata": {
  "kernelspec": {
   "display_name": "Python 3",
   "language": "python",
   "name": "python3"
  },
  "language_info": {
   "codemirror_mode": {
    "name": "ipython",
    "version": 3
   },
   "file_extension": ".py",
   "mimetype": "text/x-python",
   "name": "python",
   "nbconvert_exporter": "python",
   "pygments_lexer": "ipython3",
   "version": "3.7.5"
  }
 },
 "nbformat": 4,
 "nbformat_minor": 5
}
